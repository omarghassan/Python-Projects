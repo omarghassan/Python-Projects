{
 "cells": [
  {
   "cell_type": "code",
   "execution_count": 7,
   "id": "63a2afa6-5177-4ebd-8d16-72ab4047be19",
   "metadata": {},
   "outputs": [
    {
     "name": "stdout",
     "output_type": "stream",
     "text": [
      "apple\n",
      "in\n",
      "banana\n",
      "in\n",
      "cherry\n",
      "in\n",
      "out\n"
     ]
    }
   ],
   "source": [
    "fruits=[\"apple\",\"banana\",\"cherry\"] \n",
    "for x in fruits: \n",
    "    print(x)\n",
    "    if x==\"banana\"\"\n",
    "    print(\"in\")\n",
    "print(\"out\")\n",
    "    "
   ]
  },
  {
   "cell_type": "code",
   "execution_count": 8,
   "id": "6ee400a4-6d83-4810-9c3d-85f131485816",
   "metadata": {},
   "outputs": [
    {
     "name": "stdout",
     "output_type": "stream",
     "text": [
      "b\n",
      "in\n",
      "a\n",
      "in\n",
      "n\n",
      "in\n",
      "a\n",
      "in\n",
      "n\n",
      "in\n",
      "a\n",
      "in\n",
      "out\n"
     ]
    }
   ],
   "source": [
    " \n",
    "for x in \"banana\": \n",
    "    print(x)\n",
    "    print(\"in\")\n",
    "print(\"out\")"
   ]
  },
  {
   "cell_type": "code",
   "execution_count": 10,
   "id": "3ee3d374-ce4e-4444-a655-90a9439029b4",
   "metadata": {},
   "outputs": [
    {
     "name": "stdout",
     "output_type": "stream",
     "text": [
      "b\n",
      "in\n",
      "a\n",
      "in\n",
      "n\n",
      "out\n"
     ]
    }
   ],
   "source": [
    "for x in \"banana\": \n",
    "    print(x)\n",
    "    if x == \"n\":\n",
    "        break\n",
    "    print(\"in\")\n",
    "print(\"out\")"
   ]
  },
  {
   "cell_type": "code",
   "execution_count": 14,
   "id": "a8815215-870d-4a37-ae95-0f32a93ee71d",
   "metadata": {},
   "outputs": [
    {
     "name": "stdout",
     "output_type": "stream",
     "text": [
      "b\n",
      "in\n",
      "a\n",
      "in\n",
      "a\n",
      "in\n",
      "a\n",
      "in\n",
      "out\n"
     ]
    }
   ],
   "source": [
    "for x in \"banana\": \n",
    "    \n",
    "    if x == 'n':\n",
    "        continue\n",
    "    print(x)    \n",
    "    print(\"in\")\n",
    "print(\"out\")"
   ]
  },
  {
   "cell_type": "code",
   "execution_count": 17,
   "id": "92663539-e7b6-414f-b910-cf3b0287f32e",
   "metadata": {},
   "outputs": [
    {
     "name": "stdout",
     "output_type": "stream",
     "text": [
      "0\n",
      "1\n",
      "2\n",
      "3\n",
      "4\n",
      "5\n"
     ]
    }
   ],
   "source": [
    "for x in range(6):\n",
    "    print(x) "
   ]
  },
  {
   "cell_type": "code",
   "execution_count": 20,
   "id": "f526acf2-94a2-4561-9dc2-3ed3e677faab",
   "metadata": {},
   "outputs": [
    {
     "name": "stdout",
     "output_type": "stream",
     "text": [
      "-2\n",
      "-1\n",
      "0\n",
      "1\n",
      "2\n",
      "3\n",
      "4\n",
      "5\n"
     ]
    }
   ],
   "source": [
    "for x in range(-2,6):\n",
    "    print(x) "
   ]
  },
  {
   "cell_type": "code",
   "execution_count": 25,
   "id": "168a49d2-43b2-47d2-92b4-49a6721e47df",
   "metadata": {},
   "outputs": [
    {
     "name": "stdout",
     "output_type": "stream",
     "text": [
      "-2\n",
      "4\n",
      "within else\n",
      "after loop\n"
     ]
    }
   ],
   "source": [
    "for x in range(-2,6,3):\n",
    "    if x==1:\n",
    "      #break\n",
    "      continue\n",
    "    print(x)\n",
    "    \n",
    "else :\n",
    "    print(\"within else\")\n",
    "print(\"after loop\")"
   ]
  },
  {
   "cell_type": "code",
   "execution_count": 29,
   "id": "62a3949d-e091-4ef6-8bfa-55eb1078e130",
   "metadata": {},
   "outputs": [
    {
     "name": "stdout",
     "output_type": "stream",
     "text": [
      "red apple\n",
      "red banana\n",
      "red cherry\n",
      "big apple\n",
      "big banana\n",
      "big cherry\n",
      "tasty apple\n",
      "tasty banana\n",
      "tasty cherry\n"
     ]
    }
   ],
   "source": [
    "adj = [\"red\",\"big\",\"tasty\"] \n",
    "fruits=[\"apple\",\"banana\",\"cherry\"] \n",
    " \n",
    "for x in adj: \n",
    "    for y in fruits:\n",
    "        print(x,y) \n",
    "\n"
   ]
  },
  {
   "cell_type": "code",
   "execution_count": null,
   "id": "6d2d917a-8876-4ea3-a8d9-785606f29cb1",
   "metadata": {},
   "outputs": [],
   "source": []
  }
 ],
 "metadata": {
  "kernelspec": {
   "display_name": "Python 3",
   "language": "python",
   "name": "python3"
  },
  "language_info": {
   "codemirror_mode": {
    "name": "ipython",
    "version": 3
   },
   "file_extension": ".py",
   "mimetype": "text/x-python",
   "name": "python",
   "nbconvert_exporter": "python",
   "pygments_lexer": "ipython3",
   "version": "3.7.8"
  }
 },
 "nbformat": 4,
 "nbformat_minor": 5
}
