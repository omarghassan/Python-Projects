{
 "cells": [
  {
   "cell_type": "code",
   "execution_count": 7,
   "id": "e8bf06db-9735-4c53-a659-a71b5983063d",
   "metadata": {},
   "outputs": [
    {
     "name": "stdout",
     "output_type": "stream",
     "text": [
      "10\n",
      "25\n"
     ]
    }
   ],
   "source": [
    "# this is a comment\n",
    "print(5+5) # add 2 numbers\n",
    "print(5*5) \n"
   ]
  },
  {
   "cell_type": "code",
   "execution_count": 13,
   "id": "ba8b9587-3931-472b-a1f9-884ba3199eda",
   "metadata": {},
   "outputs": [
    {
     "ename": "SyntaxError",
     "evalue": "invalid syntax (<ipython-input-13-1093af69e06a>, line 2)",
     "output_type": "error",
     "traceback": [
      "\u001b[0;36m  File \u001b[0;32m\"<ipython-input-13-1093af69e06a>\"\u001b[0;36m, line \u001b[0;32m2\u001b[0m\n\u001b[0;31m    print(5+5) print(5*5)\u001b[0m\n\u001b[0m                   ^\u001b[0m\n\u001b[0;31mSyntaxError\u001b[0m\u001b[0;31m:\u001b[0m invalid syntax\n"
     ]
    }
   ],
   "source": [
    "# this is a comment\n",
    "print(5+5) \n",
    "print(5*5) "
   ]
  },
  {
   "cell_type": "code",
   "execution_count": 17,
   "id": "b834b1cf-769e-454b-a269-0cdf596bb8f7",
   "metadata": {},
   "outputs": [
    {
     "name": "stdout",
     "output_type": "stream",
     "text": [
      "10\n",
      "0\n",
      "15\n",
      "5.0\n",
      "16\n",
      "3\n"
     ]
    }
   ],
   "source": [
    "# Addition and subtraction\n",
    "print(5 + 5)\n",
    "print(5 - 5)\n",
    "# Multiplication and division\n",
    "print(3 * 5)\n",
    "print(10 / 2)\n",
    "# Exponentiation\n",
    "print(4 ** 2)\n",
    "\n",
    "\n",
    "print(13 % 5)\n"
   ]
  },
  {
   "cell_type": "code",
   "execution_count": 18,
   "id": "2987243d-94d3-4a4a-b8e2-fe3f6e6b82b1",
   "metadata": {},
   "outputs": [
    {
     "data": {
      "text/plain": [
       "194.87171000000012"
      ]
     },
     "execution_count": 18,
     "metadata": {},
     "output_type": "execute_result"
    }
   ],
   "source": [
    "100*(1.1**7)"
   ]
  },
  {
   "cell_type": "code",
   "execution_count": 19,
   "id": "bea05ebe-562e-4b2e-a2af-ab838efe9eca",
   "metadata": {},
   "outputs": [
    {
     "data": {
      "text/plain": [
       "194.87171000000012"
      ]
     },
     "execution_count": 19,
     "metadata": {},
     "output_type": "execute_result"
    }
   ],
   "source": [
    "100*1.1**7"
   ]
  },
  {
   "cell_type": "code",
   "execution_count": null,
   "id": "ac8e5cb3-85c9-478e-9a14-d7bafd2969c4",
   "metadata": {},
   "outputs": [],
   "source": []
  },
  {
   "cell_type": "code",
   "execution_count": 20,
   "id": "4e600e07-00bd-48ce-b79f-490a6ea9aebf",
   "metadata": {},
   "outputs": [
    {
     "ename": "SyntaxError",
     "evalue": "invalid syntax (<ipython-input-20-aab67b92e8d4>, line 1)",
     "output_type": "error",
     "traceback": [
      "\u001b[0;36m  File \u001b[0;32m\"<ipython-input-20-aab67b92e8d4>\"\u001b[0;36m, line \u001b[0;32m1\u001b[0m\n\u001b[0;31m    2+3*6**2>16 && 1+1>0\u001b[0m\n\u001b[0m                 ^\u001b[0m\n\u001b[0;31mSyntaxError\u001b[0m\u001b[0;31m:\u001b[0m invalid syntax\n"
     ]
    }
   ],
   "source": [
    "2+3*6**2>16 && 1+1>0"
   ]
  },
  {
   "cell_type": "code",
   "execution_count": 21,
   "id": "371f041d-5ae2-4cb0-8719-680e07284759",
   "metadata": {},
   "outputs": [
    {
     "data": {
      "text/plain": [
       "True"
      ]
     },
     "execution_count": 21,
     "metadata": {},
     "output_type": "execute_result"
    }
   ],
   "source": [
    "2+3*6**2>16 and 1+1>0"
   ]
  },
  {
   "cell_type": "code",
   "execution_count": 22,
   "id": "0646aa3b-19e9-4a32-87ea-ab54922d3b83",
   "metadata": {},
   "outputs": [
    {
     "data": {
      "text/plain": [
       "110"
      ]
     },
     "execution_count": 22,
     "metadata": {},
     "output_type": "execute_result"
    }
   ],
   "source": [
    "2+3*6**2\n"
   ]
  },
  {
   "cell_type": "code",
   "execution_count": 30,
   "id": "48be6ee3-08c1-4853-9da6-3083c1b6491b",
   "metadata": {},
   "outputs": [
    {
     "data": {
      "text/plain": [
       "'ali'"
      ]
     },
     "execution_count": 30,
     "metadata": {},
     "output_type": "execute_result"
    }
   ],
   "source": [
    "x=10\n",
    "name='ahmad'\n",
    "x=\"ali\"\n",
    "x\n",
    "\n"
   ]
  },
  {
   "cell_type": "code",
   "execution_count": 29,
   "id": "6452ab59-feda-4721-be29-2ea349f228c1",
   "metadata": {},
   "outputs": [
    {
     "name": "stdout",
     "output_type": "stream",
     "text": [
      "194.87171000000012\n"
     ]
    }
   ],
   "source": [
    "savings=100\n",
    "factor=1.1\n",
    "years=7\n",
    "result=savings*(factor**years)\n",
    "print(result)"
   ]
  },
  {
   "cell_type": "code",
   "execution_count": 31,
   "id": "b3721632-6c47-4344-9df0-d87696399a37",
   "metadata": {},
   "outputs": [
    {
     "ename": "SyntaxError",
     "evalue": "invalid syntax (<ipython-input-31-4c38a0308056>, line 1)",
     "output_type": "error",
     "traceback": [
      "\u001b[0;36m  File \u001b[0;32m\"<ipython-input-31-4c38a0308056>\"\u001b[0;36m, line \u001b[0;32m1\u001b[0m\n\u001b[0;31m    bool x\u001b[0m\n\u001b[0m         ^\u001b[0m\n\u001b[0;31mSyntaxError\u001b[0m\u001b[0;31m:\u001b[0m invalid syntax\n"
     ]
    }
   ],
   "source": [
    "bool x\n"
   ]
  },
  {
   "cell_type": "code",
   "execution_count": 34,
   "id": "2560b843-c7c3-4c25-a4ea-071546fcd3c9",
   "metadata": {},
   "outputs": [
    {
     "data": {
      "text/plain": [
       "'compound interest'"
      ]
     },
     "execution_count": 34,
     "metadata": {},
     "output_type": "execute_result"
    }
   ],
   "source": [
    "desc =\"compound interest\"\n",
    "desc"
   ]
  },
  {
   "cell_type": "code",
   "execution_count": 36,
   "id": "0f54835a-ded8-418b-9044-3abe55ce3cdb",
   "metadata": {},
   "outputs": [
    {
     "data": {
      "text/plain": [
       "True"
      ]
     },
     "execution_count": 36,
     "metadata": {},
     "output_type": "execute_result"
    }
   ],
   "source": [
    "profitable=True\n",
    "profitable\n"
   ]
  },
  {
   "cell_type": "code",
   "execution_count": 40,
   "id": "f9bcd376-5111-42a0-ab31-20905c77bb64",
   "metadata": {},
   "outputs": [
    {
     "data": {
      "text/plain": [
       "float"
      ]
     },
     "execution_count": 40,
     "metadata": {},
     "output_type": "execute_result"
    }
   ],
   "source": [
    "type(profitable)\n",
    "type(desc)\n",
    "type(savings)\n",
    "type(factor)"
   ]
  },
  {
   "cell_type": "code",
   "execution_count": 49,
   "id": "c166d7cf-73c0-4371-8291-1716e7ee1983",
   "metadata": {},
   "outputs": [
    {
     "name": "stdout",
     "output_type": "stream",
     "text": [
      "DataScience\n"
     ]
    },
    {
     "data": {
      "text/plain": [
       "str"
      ]
     },
     "execution_count": 49,
     "metadata": {},
     "output_type": "execute_result"
    }
   ],
   "source": [
    "a=10\n",
    "b=50\n",
    "c=a/b\n",
    "type(c)\n",
    "d=\"Data\"\n",
    "e=\"Science\"\n",
    "f=d+e\n",
    "print(f)\n",
    "type(f)"
   ]
  },
  {
   "cell_type": "code",
   "execution_count": 54,
   "id": "3559d362-32fa-4d8a-924e-b6c5959cee98",
   "metadata": {},
   "outputs": [
    {
     "name": "stdout",
     "output_type": "stream",
     "text": [
      "I started with $100 and now have $194.87171000000012. Awesome!\n"
     ]
    }
   ],
   "source": [
    " print (\"I started with $\" + str(savings) + \" and now have $\" + str(result) + \". Awesome!\")\n"
   ]
  },
  {
   "cell_type": "code",
   "execution_count": 56,
   "id": "cbff2d4c-bdfd-4348-aabc-9c71034e499c",
   "metadata": {},
   "outputs": [
    {
     "data": {
      "text/plain": [
       "3"
      ]
     },
     "execution_count": 56,
     "metadata": {},
     "output_type": "execute_result"
    }
   ],
   "source": [
    "int(3.65)"
   ]
  },
  {
   "cell_type": "code",
   "execution_count": 57,
   "id": "65c960f5-b80e-4748-89f4-3551d369794a",
   "metadata": {},
   "outputs": [
    {
     "data": {
      "text/plain": [
       "2.0"
      ]
     },
     "execution_count": 57,
     "metadata": {},
     "output_type": "execute_result"
    }
   ],
   "source": [
    "float(2)"
   ]
  },
  {
   "cell_type": "code",
   "execution_count": 67,
   "id": "826e0e49-52ec-4976-bf3a-af2a4fdef0dd",
   "metadata": {},
   "outputs": [
    {
     "data": {
      "text/plain": [
       "False"
      ]
     },
     "execution_count": 67,
     "metadata": {},
     "output_type": "execute_result"
    }
   ],
   "source": [
    "bool(\"\")"
   ]
  },
  {
   "cell_type": "code",
   "execution_count": 69,
   "id": "93e6ff11-8499-4bce-9f0d-0a4ef8438031",
   "metadata": {},
   "outputs": [
    {
     "name": "stdout",
     "output_type": "stream",
     "text": [
      "I started with $100 and now have $194.87171000000012. Awesome!\n"
     ]
    }
   ],
   "source": [
    "# Definition of savings and result\n",
    "savings = 100\n",
    "result = 100 * 1.10 ** 7\n",
    "# Fix the printout\n",
    "print(\"I started with $\" + str(savings) + \" and now have $\" + str(result) + \". Awesome!\")\n",
    "# Definition of pi_string\n",
    "pi_string = \"3.1415926\"\n",
    "# Convert pi_string into float: pi_float\n"
   ]
  },
  {
   "cell_type": "code",
   "execution_count": null,
   "id": "2981bcb3-9401-4a61-a450-3546a0757c94",
   "metadata": {},
   "outputs": [],
   "source": []
  }
 ],
 "metadata": {
  "kernelspec": {
   "display_name": "Python 3",
   "language": "python",
   "name": "python3"
  },
  "language_info": {
   "codemirror_mode": {
    "name": "ipython",
    "version": 3
   },
   "file_extension": ".py",
   "mimetype": "text/x-python",
   "name": "python",
   "nbconvert_exporter": "python",
   "pygments_lexer": "ipython3",
   "version": "3.7.8"
  }
 },
 "nbformat": 4,
 "nbformat_minor": 5
}
