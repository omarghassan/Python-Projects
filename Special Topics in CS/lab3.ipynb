{
 "cells": [
  {
   "cell_type": "code",
   "execution_count": 6,
   "id": "f12768c2-3a6f-40d7-a5c4-c252d6e372c7",
   "metadata": {},
   "outputs": [
    {
     "name": "stdout",
     "output_type": "stream",
     "text": [
      "anything\n"
     ]
    }
   ],
   "source": [
    "a =33\n",
    "b =200 \n",
    "if b>a: \n",
    "    pass\n",
    "print(\"anything\")"
   ]
  },
  {
   "cell_type": "code",
   "execution_count": 10,
   "id": "7a03645f-20b9-4a99-ab5e-3c7c67c0b3d7",
   "metadata": {},
   "outputs": [
    {
     "name": "stdout",
     "output_type": "stream",
     "text": [
      "1\n",
      "within\n",
      "2\n",
      "within\n",
      "3\n",
      "within\n",
      "4\n",
      "within\n",
      "5\n",
      "within\n",
      "after6\n"
     ]
    }
   ],
   "source": [
    "i =1 \n",
    "while i <6: \n",
    "    print(i) \n",
    "    i +=1\n",
    "    print(\"within\")\n",
    "print(\"after\"+str(i))\n"
   ]
  },
  {
   "cell_type": "code",
   "execution_count": 11,
   "id": "947c710a-e694-472e-b8c3-1d5d635d7811",
   "metadata": {},
   "outputs": [
    {
     "name": "stdout",
     "output_type": "stream",
     "text": [
      "1\n",
      "2\n",
      "after3\n"
     ]
    }
   ],
   "source": [
    "i =1 \n",
    "while i <6: \n",
    "    print(i) \n",
    "    i +=1\n",
    "    if i==3:\n",
    "        break;\n",
    "print(\"after\"+str(i))\n"
   ]
  },
  {
   "cell_type": "code",
   "execution_count": 14,
   "id": "164c0ecb-6ef8-4438-8da2-c8e463b9eb3e",
   "metadata": {},
   "outputs": [
    {
     "name": "stdout",
     "output_type": "stream",
     "text": [
      "2\n",
      "4\n",
      "5\n",
      "6\n",
      "after6\n"
     ]
    }
   ],
   "source": [
    "i =1 \n",
    "while i <6: \n",
    "    i +=1\n",
    "    if i==3:\n",
    "        continue\n",
    "    print(i)     \n",
    "print(\"after\"+str(i))\n",
    "\n"
   ]
  },
  {
   "cell_type": "code",
   "execution_count": 19,
   "id": "3f28c155-1394-4ea2-9896-e0dccde8d767",
   "metadata": {},
   "outputs": [
    {
     "name": "stdout",
     "output_type": "stream",
     "text": [
      "2\n",
      "3\n",
      "4\n",
      "5\n",
      "6\n",
      "not condition\n",
      "after6\n"
     ]
    }
   ],
   "source": [
    "i =1 \n",
    "while i <6: \n",
    "    i +=1\n",
    "    print(i)     \n",
    "else:\n",
    "    print(\"not condition\")     \n",
    "print(\"after\"+str(i))\n"
   ]
  },
  {
   "cell_type": "code",
   "execution_count": null,
   "id": "e3085461-0fbc-4af1-b59f-b809bc119999",
   "metadata": {},
   "outputs": [],
   "source": []
  }
 ],
 "metadata": {
  "kernelspec": {
   "display_name": "Python 3",
   "language": "python",
   "name": "python3"
  },
  "language_info": {
   "codemirror_mode": {
    "name": "ipython",
    "version": 3
   },
   "file_extension": ".py",
   "mimetype": "text/x-python",
   "name": "python",
   "nbconvert_exporter": "python",
   "pygments_lexer": "ipython3",
   "version": "3.7.8"
  }
 },
 "nbformat": 4,
 "nbformat_minor": 5
}
