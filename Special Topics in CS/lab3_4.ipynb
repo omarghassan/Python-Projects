{
 "cells": [
  {
   "cell_type": "code",
   "execution_count": 5,
   "id": "6617e610-a37b-4b99-aedf-e1dca13ce133",
   "metadata": {},
   "outputs": [],
   "source": [
    "def my_function(fname): \n",
    "     print(fname + \" welcome\") \n"
   ]
  },
  {
   "cell_type": "code",
   "execution_count": 6,
   "id": "9592f2f5-665b-416b-b146-c8ec82ce91fd",
   "metadata": {},
   "outputs": [
    {
     "name": "stdout",
     "output_type": "stream",
     "text": [
      "ali welcome\n"
     ]
    }
   ],
   "source": [
    "my_function(\"ali\")"
   ]
  },
  {
   "cell_type": "code",
   "execution_count": 7,
   "id": "36acba41-9a76-45b2-945a-c2d9c9ca98db",
   "metadata": {},
   "outputs": [],
   "source": [
    "fname= [\"ahmad\",\"ali\",\"isam\",\"abed\"]\n",
    "def my_function(*fname): \n",
    "     print(fname[1] + \" welcome\") "
   ]
  },
  {
   "cell_type": "code",
   "execution_count": 8,
   "id": "afcbb311-51b6-44fb-96bd-9fd62646467a",
   "metadata": {},
   "outputs": [
    {
     "name": "stdout",
     "output_type": "stream",
     "text": [
      "ali welcome\n"
     ]
    }
   ],
   "source": [
    " my_function(\"ahmad\",\"ali\",\"isam\",\"abed\")"
   ]
  },
  {
   "cell_type": "code",
   "execution_count": 12,
   "id": "16956f4b-504c-4ea3-aa7d-7324bf29a6a7",
   "metadata": {},
   "outputs": [],
   "source": [
    "def my_function(child3,child2,child1): \n",
    "    print(\"The youngest child is \"+ child3) \n"
   ]
  },
  {
   "cell_type": "code",
   "execution_count": 13,
   "id": "17fedad8-0d40-4796-9575-a73cf83cab52",
   "metadata": {},
   "outputs": [
    {
     "name": "stdout",
     "output_type": "stream",
     "text": [
      "The youngest child is Linus\n"
     ]
    }
   ],
   "source": [
    "my_function(child1 =\"Emil\",child2=\"Tobias\",child3=\"Linus\")"
   ]
  },
  {
   "cell_type": "code",
   "execution_count": 15,
   "id": "6500ffb0-be93-41d8-9827-8396e9ea1ce2",
   "metadata": {},
   "outputs": [],
   "source": [
    "def my_function(**kid):\n",
    "    print(\"His last name is\"+ kid[\"lname\"]) \n"
   ]
  },
  {
   "cell_type": "code",
   "execution_count": 16,
   "id": "01e80a0b-3288-4c5b-ada2-48596352d516",
   "metadata": {},
   "outputs": [
    {
     "name": "stdout",
     "output_type": "stream",
     "text": [
      "His last name isRefsnes\n"
     ]
    }
   ],
   "source": [
    "my_function(fname =\"Tobias\",lname =\"Refsnes\")"
   ]
  },
  {
   "cell_type": "code",
   "execution_count": 19,
   "id": "ae52f39a-6555-41f5-a963-7c7c5c5d28dc",
   "metadata": {},
   "outputs": [],
   "source": [
    "def my_function(country =\"Norway\"):\n",
    "    print(\"I am from \"+country) \n"
   ]
  },
  {
   "cell_type": "code",
   "execution_count": 20,
   "id": "2d180fa8-6dcc-48f9-b195-d59305eb9470",
   "metadata": {},
   "outputs": [
    {
     "name": "stdout",
     "output_type": "stream",
     "text": [
      "I am from Sweden\n",
      "I am from India\n",
      "I am from Norway\n",
      "I am from Brazil\n"
     ]
    }
   ],
   "source": [
    "my_function(\"Sweden\") \n",
    "my_function(\"India\") \n",
    "my_function() \n",
    "my_function(\"Brazil\") "
   ]
  },
  {
   "cell_type": "code",
   "execution_count": 25,
   "id": "8fa66b17-b1db-4c2e-a3ad-d8f23da3326b",
   "metadata": {},
   "outputs": [],
   "source": [
    "def my_function(ccc): \n",
    "    for x in ccc: \n",
    "        print(x) \n"
   ]
  },
  {
   "cell_type": "code",
   "execution_count": 26,
   "id": "67f63342-116a-4cc8-a955-c0e2519dcc24",
   "metadata": {},
   "outputs": [
    {
     "name": "stdout",
     "output_type": "stream",
     "text": [
      "ahmad\n",
      "ali\n",
      "isam\n",
      "abed\n"
     ]
    }
   ],
   "source": [
    "my_function(fname)"
   ]
  },
  {
   "cell_type": "code",
   "execution_count": 30,
   "id": "72b25aff-8a3c-422c-8ed7-aa2a04bedba6",
   "metadata": {},
   "outputs": [],
   "source": [
    "def my_function(x):\n",
    "    return 5 * x \n"
   ]
  },
  {
   "cell_type": "code",
   "execution_count": 32,
   "id": "22376886-f7b3-43d3-babc-9c784e9efa5d",
   "metadata": {},
   "outputs": [
    {
     "name": "stdout",
     "output_type": "stream",
     "text": [
      "50\n"
     ]
    }
   ],
   "source": [
    "print(my_function(10))"
   ]
  },
  {
   "cell_type": "code",
   "execution_count": 38,
   "id": "97309db6-3b04-4bbe-9894-322c9564a8d3",
   "metadata": {},
   "outputs": [],
   "source": [
    "def tri_recursion(k): \n",
    "    if(k>0): \n",
    "        result=k+tri_recursion(k-1) \n",
    "       # print(result) \n",
    "    else: \n",
    "        result=0 \n",
    "    return result\n"
   ]
  },
  {
   "cell_type": "code",
   "execution_count": 40,
   "id": "8439723e-0f09-48d2-b247-52268cf3554b",
   "metadata": {},
   "outputs": [
    {
     "data": {
      "text/plain": [
       "15"
      ]
     },
     "execution_count": 40,
     "metadata": {},
     "output_type": "execute_result"
    }
   ],
   "source": [
    "tri_recursion(5)"
   ]
  },
  {
   "cell_type": "code",
   "execution_count": 43,
   "id": "55ac8d59-41a0-4d57-9906-892d4428504b",
   "metadata": {},
   "outputs": [
    {
     "name": "stdout",
     "output_type": "stream",
     "text": [
      "15\n"
     ]
    }
   ],
   "source": [
    "x = lambda a:a+10\n",
    "print(x(5)) "
   ]
  },
  {
   "cell_type": "code",
   "execution_count": 46,
   "id": "81f03a76-dae6-4941-8226-e2900f1fc175",
   "metadata": {},
   "outputs": [
    {
     "name": "stdout",
     "output_type": "stream",
     "text": [
      "30\n"
     ]
    }
   ],
   "source": [
    "foo = lambda a,b:a*b\n",
    "print(foo(5,6)) "
   ]
  },
  {
   "cell_type": "code",
   "execution_count": null,
   "id": "f87d4bef-6f70-454c-b86d-61f14868ca62",
   "metadata": {},
   "outputs": [],
   "source": []
  }
 ],
 "metadata": {
  "kernelspec": {
   "display_name": "Python 3",
   "language": "python",
   "name": "python3"
  },
  "language_info": {
   "codemirror_mode": {
    "name": "ipython",
    "version": 3
   },
   "file_extension": ".py",
   "mimetype": "text/x-python",
   "name": "python",
   "nbconvert_exporter": "python",
   "pygments_lexer": "ipython3",
   "version": "3.7.8"
  }
 },
 "nbformat": 4,
 "nbformat_minor": 5
}
