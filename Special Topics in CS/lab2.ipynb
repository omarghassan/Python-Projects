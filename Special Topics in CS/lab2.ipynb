{
 "cells": [
  {
   "cell_type": "code",
   "execution_count": 1,
   "id": "4e3e2eb1-22a9-4f8f-b159-158f6be424b9",
   "metadata": {},
   "outputs": [
    {
     "name": "stdout",
     "output_type": "stream",
     "text": [
      "hello\n"
     ]
    }
   ],
   "source": [
    "'''\n",
    "jhgkjhfdkgh\n",
    "kjsdfgfjdhs\n",
    "jksdfdsg\n",
    "'''\n",
    "\n",
    "print(\"hello\")"
   ]
  },
  {
   "cell_type": "code",
   "execution_count": 2,
   "id": "563204c7-eb61-4042-ab42-1af8777f6b1c",
   "metadata": {},
   "outputs": [
    {
     "ename": "SyntaxError",
     "evalue": "invalid character in identifier (<ipython-input-2-9db04d29b6cf>, line 1)",
     "output_type": "error",
     "traceback": [
      "\u001b[0;36m  File \u001b[0;32m\"<ipython-input-2-9db04d29b6cf>\"\u001b[0;36m, line \u001b[0;32m1\u001b[0m\n\u001b[0;31m    a = 4\u001b[0m\n\u001b[0m        ^\u001b[0m\n\u001b[0;31mSyntaxError\u001b[0m\u001b[0;31m:\u001b[0m invalid character in identifier\n"
     ]
    }
   ],
   "source": []
  },
  {
   "cell_type": "code",
   "execution_count": 9,
   "id": "9c9478b2-a7f6-442a-a105-7065d9ac6891",
   "metadata": {},
   "outputs": [
    {
     "name": "stdout",
     "output_type": "stream",
     "text": [
      "ahmad\n",
      "ali\n",
      "isam\n"
     ]
    }
   ],
   "source": [
    "x,y,z = \"ahmad\",\"ali\",\"isam\"\n",
    "print(x)\n",
    "print(y)\n",
    "print(z)"
   ]
  },
  {
   "cell_type": "code",
   "execution_count": 10,
   "id": "227bf8bf-9774-43b0-831c-8423e605ae39",
   "metadata": {},
   "outputs": [
    {
     "name": "stdout",
     "output_type": "stream",
     "text": [
      "ahmad\n",
      "ahmad\n",
      "ahmad\n"
     ]
    }
   ],
   "source": [
    "x=y=z = \"ahmad\"\n",
    "print(x)\n",
    "print(y)\n",
    "print(z)"
   ]
  },
  {
   "cell_type": "code",
   "execution_count": 16,
   "id": "800e7f0d-e9d9-4de2-a142-af69d8e342fc",
   "metadata": {},
   "outputs": [
    {
     "name": "stdout",
     "output_type": "stream",
     "text": [
      "ahmad\n",
      "ali\n",
      "isam\n"
     ]
    }
   ],
   "source": [
    "student=[\"ahmad\",\"ali\",\"isam\"]\n",
    "x,y,z = student\n",
    "print(x)\n",
    "print(y)\n",
    "print(z)"
   ]
  },
  {
   "cell_type": "code",
   "execution_count": 19,
   "id": "da5860d4-74a9-4fc0-9f66-9361a0318b8a",
   "metadata": {},
   "outputs": [
    {
     "name": "stdout",
     "output_type": "stream",
     "text": [
      "helloahmad\n"
     ]
    }
   ],
   "source": [
    "print(\"hello\"+x) "
   ]
  },
  {
   "cell_type": "code",
   "execution_count": 23,
   "id": "7ce9247c-84a7-4558-b669-ba82173a350e",
   "metadata": {},
   "outputs": [
    {
     "name": "stdout",
     "output_type": "stream",
     "text": [
      "1\n",
      "0.8\n"
     ]
    }
   ],
   "source": [
    "print(6//5)\n",
    "print(4/5)"
   ]
  },
  {
   "cell_type": "code",
   "execution_count": 29,
   "id": "b4734b6d-ed18-4969-995b-8804ed43478e",
   "metadata": {},
   "outputs": [
    {
     "name": "stdout",
     "output_type": "stream",
     "text": [
      "False\n",
      "False\n",
      "True\n",
      "True\n"
     ]
    }
   ],
   "source": [
    "x= True\n",
    "y= False\n",
    "print(not x)\n",
    "print(x and y)\n",
    "print(x or y)\n",
    "print((x and True)or(not y))"
   ]
  },
  {
   "cell_type": "code",
   "execution_count": 38,
   "id": "800119d6-f681-4cc0-8300-c86d4a38790a",
   "metadata": {},
   "outputs": [
    {
     "name": "stdout",
     "output_type": "stream",
     "text": [
      "21\n",
      "True\n",
      "llo W\n"
     ]
    }
   ],
   "source": [
    "a=\"hello World! from ASU\"\n",
    "print(len(a))\n",
    "print(\"he\" in a)\n",
    "print(a[2:7])"
   ]
  },
  {
   "cell_type": "code",
   "execution_count": 39,
   "id": "5cf8b547-f908-41d8-8874-975d28f5ddb8",
   "metadata": {},
   "outputs": [
    {
     "name": "stdout",
     "output_type": "stream",
     "text": [
      "hello W\n"
     ]
    }
   ],
   "source": [
    "a=\"hello World! from ASU\"\n",
    "print(a[:7])"
   ]
  },
  {
   "cell_type": "code",
   "execution_count": 40,
   "id": "04aa7ef8-f8b0-489f-9ba3-e5cbdcea03b7",
   "metadata": {},
   "outputs": [
    {
     "name": "stdout",
     "output_type": "stream",
     "text": [
      "llo World! from ASU\n"
     ]
    }
   ],
   "source": [
    "print(a[2:])"
   ]
  },
  {
   "cell_type": "code",
   "execution_count": 41,
   "id": "37fbe94e-8691-4ce2-9e56-727e6a546b8e",
   "metadata": {},
   "outputs": [
    {
     "name": "stdout",
     "output_type": "stream",
     "text": [
      "hello World! from ASU\n"
     ]
    }
   ],
   "source": [
    "print(a[:])"
   ]
  },
  {
   "cell_type": "code",
   "execution_count": 43,
   "id": "4044017b-455e-4c55-9eb1-94303133fac7",
   "metadata": {},
   "outputs": [
    {
     "name": "stdout",
     "output_type": "stream",
     "text": [
      "HELLO WORLD! FROM ASU\n"
     ]
    }
   ],
   "source": [
    "print(a.upper())"
   ]
  },
  {
   "cell_type": "code",
   "execution_count": 44,
   "id": "4ce836c0-f3bb-4ac4-997e-fdd98e33b649",
   "metadata": {},
   "outputs": [
    {
     "name": "stdout",
     "output_type": "stream",
     "text": [
      "hello world! from asu\n"
     ]
    }
   ],
   "source": [
    "print(a.lower())"
   ]
  },
  {
   "cell_type": "code",
   "execution_count": 47,
   "id": "d16b50e1-bcd8-43ed-a252-4a1a7c299ada",
   "metadata": {},
   "outputs": [
    {
     "name": "stdout",
     "output_type": "stream",
     "text": [
      "  ajsdd    hsfhas   \n",
      "ajsdd    hsfhas\n"
     ]
    }
   ],
   "source": [
    "b=\"  ajsdd    hsfhas   \"\n",
    "print(b)   \n",
    "print(b.strip())"
   ]
  },
  {
   "cell_type": "code",
   "execution_count": 50,
   "id": "d115d580-723e-4d48-8abd-6d1fe2924972",
   "metadata": {},
   "outputs": [
    {
     "name": "stdout",
     "output_type": "stream",
     "text": [
      "hello World! from ASU\n"
     ]
    },
    {
     "data": {
      "text/plain": [
       "'hello0World!0from0ASU'"
      ]
     },
     "execution_count": 50,
     "metadata": {},
     "output_type": "execute_result"
    }
   ],
   "source": [
    "print(a)\n",
    "a.replace(\" \",\"0\")"
   ]
  },
  {
   "cell_type": "code",
   "execution_count": 51,
   "id": "f6227321-9686-4f74-b3d8-216d6e66bf4a",
   "metadata": {},
   "outputs": [
    {
     "name": "stdout",
     "output_type": "stream",
     "text": [
      "hello World! from ASU\n"
     ]
    }
   ],
   "source": [
    "print(a)"
   ]
  },
  {
   "cell_type": "code",
   "execution_count": 52,
   "id": "e3d1b769-e316-498a-a350-f6710f0ebed0",
   "metadata": {},
   "outputs": [
    {
     "name": "stdout",
     "output_type": "stream",
     "text": [
      "['hello', 'World!', 'from', 'ASU']\n"
     ]
    }
   ],
   "source": [
    "print(a.split(\" \"))"
   ]
  },
  {
   "cell_type": "code",
   "execution_count": 53,
   "id": "bfa0ee3b-75ff-4f72-be65-f5d9477499b9",
   "metadata": {},
   "outputs": [
    {
     "name": "stdout",
     "output_type": "stream",
     "text": [
      "hello'from me\n"
     ]
    }
   ],
   "source": [
    "print(\"hello\\'from me\")"
   ]
  },
  {
   "cell_type": "code",
   "execution_count": 54,
   "id": "f965042c-aaa4-4add-9407-47c0a96ccefb",
   "metadata": {},
   "outputs": [
    {
     "name": "stdout",
     "output_type": "stream",
     "text": [
      "hello'from me\n"
     ]
    }
   ],
   "source": [
    "print(\"hello'from me\")"
   ]
  },
  {
   "cell_type": "code",
   "execution_count": 57,
   "id": "7549e0ad-c4d6-478d-ae20-da15f31df62b",
   "metadata": {},
   "outputs": [
    {
     "name": "stdout",
     "output_type": "stream",
     "text": [
      "hello\n",
      "from me\n"
     ]
    }
   ],
   "source": [
    "print(\"hello\\nfrom me\")"
   ]
  },
  {
   "cell_type": "code",
   "execution_count": 59,
   "id": "154a2c2d-bd2b-4dc3-b393-c862865466f9",
   "metadata": {},
   "outputs": [
    {
     "name": "stdout",
     "output_type": "stream",
     "text": [
      "helloJfrom me\n"
     ]
    }
   ],
   "source": [
    "print(\"hello\\112from me\")"
   ]
  },
  {
   "cell_type": "code",
   "execution_count": 63,
   "id": "9414f4b1-3a58-4ab5-8045-b644fd899b91",
   "metadata": {},
   "outputs": [
    {
     "name": "stdout",
     "output_type": "stream",
     "text": [
      "ali\n"
     ]
    }
   ],
   "source": [
    "student=[\"ahmad\",\"ali\",\"isam\"]\n",
    "print(student[1])"
   ]
  },
  {
   "cell_type": "code",
   "execution_count": 65,
   "id": "6a81135b-f171-4c4e-965c-39bc8edb62bb",
   "metadata": {},
   "outputs": [],
   "source": [
    "thislist = [\"apple\",\"banana\",\"cherry\",\"orange\",\"kiwi\",\"melon\",\"mango\"]"
   ]
  },
  {
   "cell_type": "code",
   "execution_count": 66,
   "id": "0cf193f3-3590-4e39-ab3d-cea7b2c8026e",
   "metadata": {},
   "outputs": [
    {
     "name": "stdout",
     "output_type": "stream",
     "text": [
      "['cherry', 'orange', 'kiwi']\n"
     ]
    }
   ],
   "source": [
    "print(thislist[2:5])"
   ]
  },
  {
   "cell_type": "code",
   "execution_count": 67,
   "id": "3bc6cfeb-f229-4f6d-b390-3dcce8a34d87",
   "metadata": {},
   "outputs": [
    {
     "name": "stdout",
     "output_type": "stream",
     "text": [
      "['cherry', 'orange', 'kiwi', 'melon', 'mango']\n"
     ]
    }
   ],
   "source": [
    "print(thislist[2:])"
   ]
  },
  {
   "cell_type": "code",
   "execution_count": 68,
   "id": "b66b9f88-9baf-4ded-bf94-a95fae63c3ce",
   "metadata": {},
   "outputs": [
    {
     "name": "stdout",
     "output_type": "stream",
     "text": [
      "['apple', 'banana', 'cherry', 'orange', 'kiwi']\n"
     ]
    }
   ],
   "source": [
    "print(thislist[:5])"
   ]
  },
  {
   "cell_type": "code",
   "execution_count": 69,
   "id": "ccbd6978-64a5-44e6-a610-e26dc68c9799",
   "metadata": {},
   "outputs": [
    {
     "name": "stdout",
     "output_type": "stream",
     "text": [
      "7\n"
     ]
    }
   ],
   "source": [
    "print(len(thislist))"
   ]
  },
  {
   "cell_type": "code",
   "execution_count": 70,
   "id": "6581c1b1-a5c6-4bd7-8f4e-936dbc892369",
   "metadata": {},
   "outputs": [],
   "source": [
    "thislist.remove(\"banana\")"
   ]
  },
  {
   "cell_type": "code",
   "execution_count": 71,
   "id": "7becab02-0d4e-483c-b86d-f61cc3e1c423",
   "metadata": {},
   "outputs": [
    {
     "data": {
      "text/plain": [
       "['apple', 'cherry', 'orange', 'kiwi', 'melon', 'mango']"
      ]
     },
     "execution_count": 71,
     "metadata": {},
     "output_type": "execute_result"
    }
   ],
   "source": [
    "thislist"
   ]
  },
  {
   "cell_type": "code",
   "execution_count": 72,
   "id": "3710dad7-00b7-4893-9691-57f29f86aea7",
   "metadata": {},
   "outputs": [
    {
     "name": "stdout",
     "output_type": "stream",
     "text": [
      "['apple', 'banana']\n"
     ]
    }
   ],
   "source": [
    "thislist = [\"apple\",\"banana\",\"cherry\"] \n",
    "thislist.pop() \n",
    "print(thislist) "
   ]
  },
  {
   "cell_type": "code",
   "execution_count": 73,
   "id": "1eeee8e5-a0fb-433a-8f92-dea32c137c4e",
   "metadata": {},
   "outputs": [
    {
     "name": "stdout",
     "output_type": "stream",
     "text": [
      "['apple', 'banana', 'cherry', 'orange']\n"
     ]
    }
   ],
   "source": [
    "thislist = [\"apple\",\"banana\",\"cherry\"] \n",
    "thislist.append(\"orange\") \n",
    "print(thislist) "
   ]
  },
  {
   "cell_type": "code",
   "execution_count": 75,
   "id": "263c7083-7890-4d8a-8751-23613490e30c",
   "metadata": {},
   "outputs": [
    {
     "name": "stdout",
     "output_type": "stream",
     "text": [
      "['apple', 'orange', 'banana', 'cherry']\n"
     ]
    }
   ],
   "source": [
    "thislist = [\"apple\",\"banana\",\"cherry\"] \n",
    "thislist.insert(1,\"orange\") \n",
    "print(thislist) "
   ]
  },
  {
   "cell_type": "code",
   "execution_count": 76,
   "id": "8bc6420b-6361-448d-9938-d1e6960420db",
   "metadata": {},
   "outputs": [
    {
     "name": "stdout",
     "output_type": "stream",
     "text": [
      "['apple', 'banana', 'cherry', 'orange']\n"
     ]
    }
   ],
   "source": [
    "thislist = [\"apple\",\"banana\",\"cherry\"] \n",
    "thislist.insert(len(thislist),\"orange\") \n",
    "print(thislist) "
   ]
  },
  {
   "cell_type": "code",
   "execution_count": 88,
   "id": "85ef620e-1ab1-4536-bc43-71af67d0c223",
   "metadata": {},
   "outputs": [
    {
     "name": "stdout",
     "output_type": "stream",
     "text": [
      " a is greater than b\n",
      "after the if\n"
     ]
    }
   ],
   "source": [
    "a=20\n",
    "b=10\n",
    "if a>b: print(\" a is greater than b\")\n",
    "print(\"after the if\")"
   ]
  },
  {
   "cell_type": "code",
   "execution_count": 105,
   "id": "a8e889b3-2388-4b20-acaf-cd406b4171f2",
   "metadata": {},
   "outputs": [
    {
     "name": "stdout",
     "output_type": "stream",
     "text": [
      " b is greater than a\n",
      "within the else\n",
      "other after is\n"
     ]
    }
   ],
   "source": [
    "a=10\n",
    "b=20\n",
    "if a>b:\n",
    "    print(\" a is greater than b\");\n",
    "    print(\"within the if\");\n",
    "else:\n",
    "    print(\" b is greater than a\");\n",
    "    print(\"within the else\");\n",
    "    \n",
    "print(\"other after is\")"
   ]
  },
  {
   "cell_type": "code",
   "execution_count": 117,
   "id": "b64cdc69-6c77-4dc6-8ba3-26086f5158ca",
   "metadata": {},
   "outputs": [
    {
     "name": "stdout",
     "output_type": "stream",
     "text": [
      "other cases\n"
     ]
    }
   ],
   "source": [
    "a=33 \n",
    "b=33\n",
    "if b>a: \n",
    "    print(\"b is greater than a\") \n",
    "elif a>b: \n",
    "    print(\"a is greater than b\")\n",
    "else:\n",
    "    print(\"other cases\")"
   ]
  },
  {
   "cell_type": "code",
   "execution_count": 130,
   "id": "79cfd5e5-18d4-46be-a087-fd415bfdac50",
   "metadata": {},
   "outputs": [
    {
     "name": "stdout",
     "output_type": "stream",
     "text": [
      "B\n"
     ]
    }
   ],
   "source": [
    "a=133 \n",
    "b=233\n",
    "print(\"A\") if a>b else print(\"B\")\n"
   ]
  },
  {
   "cell_type": "code",
   "execution_count": 131,
   "id": "1d7d449c-2bc9-4bd5-83a1-387db634ed34",
   "metadata": {},
   "outputs": [
    {
     "name": "stdout",
     "output_type": "stream",
     "text": [
      "B\n"
     ]
    }
   ],
   "source": [
    "print(\"A\") if a>b else print(\"=\") if a==b else print(\"B\")"
   ]
  },
  {
   "cell_type": "code",
   "execution_count": 134,
   "id": "bd2a27c5-f558-4dd5-8f3a-3cb0d5dd3efb",
   "metadata": {},
   "outputs": [
    {
     "name": "stdout",
     "output_type": "stream",
     "text": [
      "Both\n"
     ]
    }
   ],
   "source": [
    "a=133 \n",
    "b=33\n",
    "c=100\n",
    "if a>b  or c>a: \n",
    "    print(\"Both\") "
   ]
  },
  {
   "cell_type": "code",
   "execution_count": 137,
   "id": "2884e43a-79c1-499d-99fe-bb79b8587335",
   "metadata": {},
   "outputs": [
    {
     "name": "stdout",
     "output_type": "stream",
     "text": [
      "greater\n",
      "greater than 200\n",
      "within nested\n",
      "within first if\n",
      "outside if\n"
     ]
    }
   ],
   "source": [
    "a=233\n",
    "if a>100:\n",
    "    print(\"greater\")\n",
    "    if a>200: \n",
    "        print(\"greater than 200\")\n",
    "        print(\"within nested\")\n",
    "    print(\"within first if\")\n",
    "print(\"outside if\")\n",
    "        \n",
    "        "
   ]
  },
  {
   "cell_type": "code",
   "execution_count": null,
   "id": "cb33f047-9fdf-4e35-9a88-05e77340d63b",
   "metadata": {},
   "outputs": [],
   "source": []
  }
 ],
 "metadata": {
  "kernelspec": {
   "display_name": "Python 3",
   "language": "python",
   "name": "python3"
  },
  "language_info": {
   "codemirror_mode": {
    "name": "ipython",
    "version": 3
   },
   "file_extension": ".py",
   "mimetype": "text/x-python",
   "name": "python",
   "nbconvert_exporter": "python",
   "pygments_lexer": "ipython3",
   "version": "3.7.8"
  }
 },
 "nbformat": 4,
 "nbformat_minor": 5
}
