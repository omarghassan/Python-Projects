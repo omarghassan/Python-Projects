{
 "cells": [
  {
   "cell_type": "code",
   "execution_count": 3,
   "id": "8ba5a945-ea10-484a-9392-012a10a27671",
   "metadata": {},
   "outputs": [
    {
     "name": "stdout",
     "output_type": "stream",
     "text": [
      "[1 2 3 4 5]\n"
     ]
    }
   ],
   "source": [
    "import numpy \n",
    "arr = numpy.array([1,2,3,4,5]) \n",
    "print(arr)\n"
   ]
  },
  {
   "cell_type": "code",
   "execution_count": 8,
   "id": "a14a0796-a46f-4600-a6be-083b81e688d9",
   "metadata": {},
   "outputs": [
    {
     "name": "stdout",
     "output_type": "stream",
     "text": [
      "[1 2 3 4 5]\n"
     ]
    }
   ],
   "source": [
    "import numpy as np\n",
    "arr1 = np.array([1,2,3,4,5]) \n",
    "print(arr1)"
   ]
  },
  {
   "cell_type": "code",
   "execution_count": 10,
   "id": "77fd23be-3a56-4d48-812c-c5a2b05b6afc",
   "metadata": {},
   "outputs": [
    {
     "name": "stdout",
     "output_type": "stream",
     "text": [
      "1.21.2\n"
     ]
    }
   ],
   "source": [
    "print(np.__version__)"
   ]
  },
  {
   "cell_type": "code",
   "execution_count": 33,
   "id": "9facd828-b00e-4a86-ac48-675fdc627106",
   "metadata": {},
   "outputs": [],
   "source": [
    "arr3 = np.array([[1,2,3],[4,15,6],[1,2,31],[4,5,6]]) \n"
   ]
  },
  {
   "cell_type": "code",
   "execution_count": 34,
   "id": "728a6012-caaa-485d-abd5-b08de9d0f176",
   "metadata": {},
   "outputs": [
    {
     "name": "stdout",
     "output_type": "stream",
     "text": [
      "[[ 1  2  3]\n",
      " [ 4 15  6]\n",
      " [ 1  2 31]\n",
      " [ 4  5  6]]\n"
     ]
    }
   ],
   "source": [
    "print(arr3)"
   ]
  },
  {
   "cell_type": "code",
   "execution_count": 21,
   "id": "837f0f22-6eb3-408d-9686-f1abb0670dc0",
   "metadata": {},
   "outputs": [
    {
     "name": "stdout",
     "output_type": "stream",
     "text": [
      "1\n",
      "2\n"
     ]
    }
   ],
   "source": [
    "print(arr1.ndim) \n",
    "print(arr3.ndim) "
   ]
  },
  {
   "cell_type": "code",
   "execution_count": 26,
   "id": "a23bd2c0-8514-4ccb-bb85-9b2bcc2e7268",
   "metadata": {},
   "outputs": [
    {
     "name": "stdout",
     "output_type": "stream",
     "text": [
      "index 2nd dim:  31\n"
     ]
    }
   ],
   "source": [
    "print('index 2nd dim: ', arr3[2,2]) "
   ]
  },
  {
   "cell_type": "code",
   "execution_count": 36,
   "id": "0636990c-957b-4615-a503-e98e965c0ded",
   "metadata": {},
   "outputs": [
    {
     "name": "stdout",
     "output_type": "stream",
     "text": [
      "Last element from 2nd dim: 15\n"
     ]
    }
   ],
   "source": [
    "print('Last element from 2nd dim:',arr3[-3,-2]) "
   ]
  },
  {
   "cell_type": "code",
   "execution_count": 42,
   "id": "c85804bd-a5fa-4eed-9810-0a8c5e37ee5a",
   "metadata": {},
   "outputs": [
    {
     "name": "stdout",
     "output_type": "stream",
     "text": [
      "[[[ 1  2  3]\n",
      "  [ 4  5  6]]\n",
      "\n",
      " [[ 1 99  3]\n",
      "  [ 4  5  6]]]\n"
     ]
    }
   ],
   "source": [
    "arr4 = np.array([[[1,2,3],[4,5,6]],[[1,99,3],[4,5,6]]]) \n",
    "print(arr4)\n"
   ]
  },
  {
   "cell_type": "code",
   "execution_count": 39,
   "id": "7543193e-36a7-4e96-9284-450463cec75e",
   "metadata": {},
   "outputs": [
    {
     "name": "stdout",
     "output_type": "stream",
     "text": [
      "3\n"
     ]
    }
   ],
   "source": [
    "print(arr4.ndim) "
   ]
  },
  {
   "cell_type": "code",
   "execution_count": 41,
   "id": "7df12989-d3dd-4ca4-8b59-a6da537c5aa2",
   "metadata": {},
   "outputs": [
    {
     "name": "stdout",
     "output_type": "stream",
     "text": [
      "6\n"
     ]
    }
   ],
   "source": [
    "print(arr4[0,0,2]) "
   ]
  },
  {
   "cell_type": "code",
   "execution_count": 47,
   "id": "a641a79f-7918-4bfc-af16-d95b5063a95d",
   "metadata": {},
   "outputs": [
    {
     "name": "stdout",
     "output_type": "stream",
     "text": [
      "99\n"
     ]
    }
   ],
   "source": [
    "print(arr4[1,0,1]) "
   ]
  },
  {
   "cell_type": "code",
   "execution_count": 49,
   "id": "22e7709e-a3f6-4387-aaf7-41239e00c7c5",
   "metadata": {},
   "outputs": [
    {
     "name": "stdout",
     "output_type": "stream",
     "text": [
      "[4 5 6]\n"
     ]
    }
   ],
   "source": [
    "print(arr4[0,1])"
   ]
  },
  {
   "cell_type": "code",
   "execution_count": 51,
   "id": "75f0e136-b4eb-4b86-969d-d024c12a762f",
   "metadata": {},
   "outputs": [],
   "source": [
    "arr5 =np.array([1,2,3,4],ndmin=5) "
   ]
  },
  {
   "cell_type": "code",
   "execution_count": 52,
   "id": "bb9629d7-b0a6-484b-8ca0-8d61df56f085",
   "metadata": {},
   "outputs": [
    {
     "name": "stdout",
     "output_type": "stream",
     "text": [
      "[[[[[1 2 3 4]]]]]\n"
     ]
    }
   ],
   "source": [
    "print(arr5)"
   ]
  },
  {
   "cell_type": "code",
   "execution_count": 53,
   "id": "4fc77390-2b05-4c09-8346-372bd5a21459",
   "metadata": {},
   "outputs": [],
   "source": [
    "arr6 = np.array([[1,2,3,4,5], [6,7,8,9,10]]) \n"
   ]
  },
  {
   "cell_type": "code",
   "execution_count": 54,
   "id": "b580335b-4634-4ee7-bf62-d5c90540d5e9",
   "metadata": {},
   "outputs": [
    {
     "name": "stdout",
     "output_type": "stream",
     "text": [
      "[[ 1  2  3  4  5]\n",
      " [ 6  7  8  9 10]]\n"
     ]
    }
   ],
   "source": [
    "print(arr6)"
   ]
  },
  {
   "cell_type": "code",
   "execution_count": null,
   "id": "b479462e-6e0a-44ca-8f29-2bdc96b39990",
   "metadata": {},
   "outputs": [],
   "source": []
  }
 ],
 "metadata": {
  "kernelspec": {
   "display_name": "Python 3",
   "language": "python",
   "name": "python3"
  },
  "language_info": {
   "codemirror_mode": {
    "name": "ipython",
    "version": 3
   },
   "file_extension": ".py",
   "mimetype": "text/x-python",
   "name": "python",
   "nbconvert_exporter": "python",
   "pygments_lexer": "ipython3",
   "version": "3.7.8"
  }
 },
 "nbformat": 4,
 "nbformat_minor": 5
}
