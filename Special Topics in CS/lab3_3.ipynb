{
 "cells": [
  {
   "cell_type": "code",
   "execution_count": 1,
   "id": "91fecd8a-267b-49b4-9f75-698116d1a9f9",
   "metadata": {},
   "outputs": [],
   "source": [
    "import math "
   ]
  },
  {
   "cell_type": "code",
   "execution_count": 2,
   "id": "d5be5cae-dc13-417c-b265-a79ef914886e",
   "metadata": {},
   "outputs": [
    {
     "name": "stdout",
     "output_type": "stream",
     "text": [
      "8.0\n",
      "3.141592653589793\n"
     ]
    }
   ],
   "source": [
    "x = math.sqrt(64)\n",
    "print(x)\n",
    "print(math.pi) "
   ]
  },
  {
   "cell_type": "code",
   "execution_count": 3,
   "id": "b35dce60-7e45-444b-89ad-e85313b73981",
   "metadata": {},
   "outputs": [
    {
     "name": "stdout",
     "output_type": "stream",
     "text": [
      "2\n"
     ]
    }
   ],
   "source": [
    "print(math.ceil(1.2))"
   ]
  },
  {
   "cell_type": "code",
   "execution_count": 5,
   "id": "2bccc85e-b245-4864-965f-78217ae9934d",
   "metadata": {},
   "outputs": [
    {
     "name": "stdout",
     "output_type": "stream",
     "text": [
      "1\n"
     ]
    }
   ],
   "source": [
    "print(math.floor(1.7))"
   ]
  },
  {
   "cell_type": "code",
   "execution_count": 7,
   "id": "e7597a4a-8549-482b-9466-61278524ea94",
   "metadata": {},
   "outputs": [],
   "source": [
    "import random"
   ]
  },
  {
   "cell_type": "code",
   "execution_count": 18,
   "id": "165ae620-39ec-4563-955c-6344bd907f1f",
   "metadata": {},
   "outputs": [
    {
     "name": "stdout",
     "output_type": "stream",
     "text": [
      "4\n",
      "1\n",
      "2\n",
      "1\n",
      "2\n",
      "5\n",
      "1\n",
      "2\n",
      "3\n",
      "6\n",
      "2\n",
      "4\n",
      "2\n",
      "2\n",
      "6\n",
      "3\n",
      "6\n",
      "4\n",
      "6\n",
      "2\n",
      "6\n",
      "4\n",
      "6\n",
      "6\n",
      "6\n",
      "4\n",
      "3\n",
      "1\n",
      "6\n",
      "4\n",
      "4\n",
      "1\n",
      "3\n",
      "2\n",
      "5\n",
      "2\n",
      "6\n",
      "5\n",
      "3\n",
      "2\n",
      "1\n",
      "5\n",
      "6\n",
      "5\n",
      "4\n",
      "2\n",
      "3\n",
      "1\n",
      "5\n",
      "2\n",
      "5\n",
      "6\n",
      "5\n",
      "2\n",
      "4\n",
      "1\n",
      "4\n",
      "1\n",
      "5\n",
      "3\n",
      "3\n",
      "2\n",
      "4\n",
      "6\n",
      "2\n",
      "4\n",
      "2\n",
      "2\n",
      "5\n",
      "2\n",
      "4\n",
      "1\n",
      "6\n",
      "4\n",
      "3\n",
      "6\n",
      "1\n",
      "6\n",
      "3\n",
      "3\n",
      "5\n",
      "3\n",
      "2\n",
      "3\n",
      "1\n",
      "5\n",
      "5\n",
      "1\n",
      "2\n",
      "3\n",
      "5\n",
      "3\n",
      "6\n",
      "5\n",
      "6\n",
      "4\n",
      "3\n",
      "1\n",
      "4\n"
     ]
    }
   ],
   "source": [
    "for x in range(1,100):\n",
    " print(random.randrange(1,7)) \n"
   ]
  },
  {
   "cell_type": "code",
   "execution_count": 21,
   "id": "e10d07fc-0443-4a71-8d30-6eabe7869f19",
   "metadata": {},
   "outputs": [
    {
     "name": "stdout",
     "output_type": "stream",
     "text": [
      "9\n"
     ]
    }
   ],
   "source": [
    "print(random.randint(3,9)) "
   ]
  },
  {
   "cell_type": "code",
   "execution_count": null,
   "id": "b3daf7af-9251-4c49-99be-5577765846ec",
   "metadata": {},
   "outputs": [],
   "source": []
  }
 ],
 "metadata": {
  "kernelspec": {
   "display_name": "Python 3",
   "language": "python",
   "name": "python3"
  },
  "language_info": {
   "codemirror_mode": {
    "name": "ipython",
    "version": 3
   },
   "file_extension": ".py",
   "mimetype": "text/x-python",
   "name": "python",
   "nbconvert_exporter": "python",
   "pygments_lexer": "ipython3",
   "version": "3.7.8"
  }
 },
 "nbformat": 4,
 "nbformat_minor": 5
}
