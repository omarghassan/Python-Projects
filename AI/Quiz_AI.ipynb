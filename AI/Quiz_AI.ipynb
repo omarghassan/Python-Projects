#!/usr/bin/env python
# coding: utf-8

# In[ ]:


# Omar Ghassan
# 202111069


# In[70]:


import pandas as pd
import matplotlib.pyplot as plt

from sklearn.model_selection import train_test_split
from sklearn.metrics import mean_squared_error

from tensorflow.keras.layers import Dense, Dropout
from tensorflow.keras.models import Sequential
from tensorflow.keras.optimizers import Adam

from sklearn.metrics import r2_score


# In[3]:


df = pd.read_csv("melb_data2.csv")


# In[7]:


df.head()


# In[8]:


df.dropna()


# In[ ]:


df.drop["Regionname"]


# In[12]:


df.describe()


# In[23]:


x = df.iloc[:, 0:12]


# In[24]:


x


# In[25]:


y = df.iloc[:, -1]


# In[26]:


y


# In[27]:


x_train, x_test, y_train, y_test = train_test_split(x, y, test_size=0.25, random_state=42, shuffle=True)


# In[33]:


model = Sequential() 


# In[89]:


#Layer 1
model.add(Dense(500, input_dim = 12, activation = "relu"))

#Layer 2
model.add(Dropout(0.2))

#Layer 3
model.add(Dense(250, activation = "relu"))

#Layer 4
model.add(Dropout(0.2))

#Layer 5
model.add(Dense(100, activation = "relu"))

#Layer 6
model.add(Dropout(0.2))

#Layer 7
model.add(Dense(50, activation = "relu"))

#Output Layer
model.add(Dense(1, activation = "relu"))


# In[90]:


model.compile(optimizer = Adam(), loss = mean_squared_error, metrics = mean_squared_error)


# In[91]:


model.fit(x_train, y_train, batch_size = 64, epochs = 300, verbose = 2, validation_data = (x_test, y_test))


# In[92]:


y_pred= model.predict(x_test)


# In[ ]:


print(accuracy_score(y_test,pred))


# In[ ]:





# In[ ]:




